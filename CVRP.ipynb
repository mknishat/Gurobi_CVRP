{
  "nbformat": 4,
  "nbformat_minor": 0,
  "metadata": {
    "colab": {
      "provenance": []
    },
    "kernelspec": {
      "name": "python3",
      "display_name": "Python 3"
    },
    "language_info": {
      "name": "python"
    }
  },
  "cells": [
    {
      "cell_type": "code",
      "execution_count": null,
      "metadata": {
        "colab": {
          "base_uri": "https://localhost:8080/"
        },
        "id": "zgoJVVcLCdJs",
        "outputId": "4a3507b4-70a7-441b-c38d-6a8a178bf497"
      },
      "outputs": [
        {
          "output_type": "stream",
          "name": "stdout",
          "text": [
            "Requirement already satisfied: gurobipy in /usr/local/lib/python3.10/dist-packages (10.0.2)\n"
          ]
        }
      ],
      "source": [
        "!pip install gurobipy"
      ]
    },
    {
      "cell_type": "code",
      "source": [
        "import numpy as np\n",
        "import matplotlib.pyplot as plt\n"
      ],
      "metadata": {
        "id": "N9xEh7LEEqcZ"
      },
      "execution_count": null,
      "outputs": []
    },
    {
      "cell_type": "code",
      "source": [
        "rnd=np.random\n",
        "rnd.seed(0)\n",
        "rnd"
      ],
      "metadata": {
        "colab": {
          "base_uri": "https://localhost:8080/"
        },
        "id": "NgDazNBkFSeS",
        "outputId": "5cf94599-883e-461e-807c-1a67d352cd06"
      },
      "execution_count": null,
      "outputs": [
        {
          "output_type": "execute_result",
          "data": {
            "text/plain": [
              "<module 'numpy.random' from '/usr/local/lib/python3.10/dist-packages/numpy/random/__init__.py'>"
            ]
          },
          "metadata": {},
          "execution_count": 3
        }
      ]
    },
    {
      "cell_type": "code",
      "source": [
        "n=10\n",
        "xc=rnd.rand(n+1)*200\n",
        "yc=rnd.rand(n+1)*100\n",
        "xc\n"
      ],
      "metadata": {
        "colab": {
          "base_uri": "https://localhost:8080/"
        },
        "id": "ENRP2ddNF1Tu",
        "outputId": "38417f03-ab58-42bb-cabd-853763330ba8"
      },
      "execution_count": null,
      "outputs": [
        {
          "output_type": "execute_result",
          "data": {
            "text/plain": [
              "array([109.76270079, 143.03787327, 120.55267521, 108.9766366 ,\n",
              "        84.73095987, 129.17882261,  87.51744225, 178.35460016,\n",
              "       192.7325521 ,  76.68830377, 158.34500762])"
            ]
          },
          "metadata": {},
          "execution_count": 4
        }
      ]
    },
    {
      "cell_type": "code",
      "source": [
        "plt.plot(xc[0],yc[0],c='r',marker='s')\n",
        "plt.scatter(xc[1:],yc[1:],c='g')"
      ],
      "metadata": {
        "colab": {
          "base_uri": "https://localhost:8080/",
          "height": 447
        },
        "id": "WDOuQyrH0MJR",
        "outputId": "4185e2cd-f2d2-43be-8ef1-0477d9512e51"
      },
      "execution_count": null,
      "outputs": [
        {
          "output_type": "execute_result",
          "data": {
            "text/plain": [
              "<matplotlib.collections.PathCollection at 0x7fa600727eb0>"
            ]
          },
          "metadata": {},
          "execution_count": 5
        },
        {
          "output_type": "display_data",
          "data": {
            "text/plain": [
              "<Figure size 640x480 with 1 Axes>"
            ],
            "image/png": "[encoded data removed]"
          },
          "metadata": {}
        }
      ]
    },
    {
      "cell_type": "code",
      "source": [
        "N=[i for i in range(1,n+1)]\n",
        "V=[0]+N\n",
        "V"
      ],
      "metadata": {
        "colab": {
          "base_uri": "https://localhost:8080/"
        },
        "id": "VT1Yh6H81atL",
        "outputId": "34ae2926-dd92-4e9b-b1f5-33c03fb83611"
      },
      "execution_count": null,
      "outputs": [
        {
          "output_type": "execute_result",
          "data": {
            "text/plain": [
              "[0, 1, 2, 3, 4, 5, 6, 7, 8, 9, 10]"
            ]
          },
          "metadata": {},
          "execution_count": 6
        }
      ]
    },
    {
      "cell_type": "code",
      "source": [
        "A=[(i,j) for i in V for j in V if i!=j]\n",
        "A"
      ],
      "metadata": {
        "colab": {
          "base_uri": "https://localhost:8080/"
        },
        "id": "FwkbNeac2YTb",
        "outputId": "98937683-59d6-49fe-9e2a-91f2cdfb0cf0"
      },
      "execution_count": null,
      "outputs": [
        {
          "output_type": "execute_result",
          "data": {
            "text/plain": [
              "[(0, 1),\n",
              " (0, 2),\n",
              " (0, 3),\n",
              " (0, 4),\n",
              " (0, 5),\n",
              " (0, 6),\n",
              " (0, 7),\n",
              " (0, 8),\n",
              " (0, 9),\n",
              " (0, 10),\n",
              " (1, 0),\n",
              " (1, 2),\n",
              " (1, 3),\n",
              " (1, 4),\n",
              " (1, 5),\n",
              " (1, 6),\n",
              " (1, 7),\n",
              " (1, 8),\n",
              " (1, 9),\n",
              " (1, 10),\n",
              " (2, 0),\n",
              " (2, 1),\n",
              " (2, 3),\n",
              " (2, 4),\n",
              " (2, 5),\n",
              " (2, 6),\n",
              " (2, 7),\n",
              " (2, 8),\n",
              " (2, 9),\n",
              " (2, 10),\n",
              " (3, 0),\n",
              " (3, 1),\n",
              " (3, 2),\n",
              " (3, 4),\n",
              " (3, 5),\n",
              " (3, 6),\n",
              " (3, 7),\n",
              " (3, 8),\n",
              " (3, 9),\n",
              " (3, 10),\n",
              " (4, 0),\n",
              " (4, 1),\n",
              " (4, 2),\n",
              " (4, 3),\n",
              " (4, 5),\n",
              " (4, 6),\n",
              " (4, 7),\n",
              " (4, 8),\n",
              " (4, 9),\n",
              " (4, 10),\n",
              " (5, 0),\n",
              " (5, 1),\n",
              " (5, 2),\n",
              " (5, 3),\n",
              " (5, 4),\n",
              " (5, 6),\n",
              " (5, 7),\n",
              " (5, 8),\n",
              " (5, 9),\n",
              " (5, 10),\n",
              " (6, 0),\n",
              " (6, 1),\n",
              " (6, 2),\n",
              " (6, 3),\n",
              " (6, 4),\n",
              " (6, 5),\n",
              " (6, 7),\n",
              " (6, 8),\n",
              " (6, 9),\n",
              " (6, 10),\n",
              " (7, 0),\n",
              " (7, 1),\n",
              " (7, 2),\n",
              " (7, 3),\n",
              " (7, 4),\n",
              " (7, 5),\n",
              " (7, 6),\n",
              " (7, 8),\n",
              " (7, 9),\n",
              " (7, 10),\n",
              " (8, 0),\n",
              " (8, 1),\n",
              " (8, 2),\n",
              " (8, 3),\n",
              " (8, 4),\n",
              " (8, 5),\n",
              " (8, 6),\n",
              " (8, 7),\n",
              " (8, 9),\n",
              " (8, 10),\n",
              " (9, 0),\n",
              " (9, 1),\n",
              " (9, 2),\n",
              " (9, 3),\n",
              " (9, 4),\n",
              " (9, 5),\n",
              " (9, 6),\n",
              " (9, 7),\n",
              " (9, 8),\n",
              " (9, 10),\n",
              " (10, 0),\n",
              " (10, 1),\n",
              " (10, 2),\n",
              " (10, 3),\n",
              " (10, 4),\n",
              " (10, 5),\n",
              " (10, 6),\n",
              " (10, 7),\n",
              " (10, 8),\n",
              " (10, 9)]"
            ]
          },
          "metadata": {},
          "execution_count": 7
        }
      ]
    },
    {
      "cell_type": "code",
      "source": [
        "c={(i,j): np.hypot(xc[j]-xc[i],yc[j]-yc[i]) for i,j in A}\n",
        "c"
      ],
      "metadata": {
        "colab": {
          "base_uri": "https://localhost:8080/"
        },
        "id": "8ASoZpY-3bD_",
        "outputId": "e4c76e49-8d90-4527-8a6e-0608989d8e38"
      },
      "execution_count": null,
      "outputs": [
        {
          "output_type": "execute_result",
          "data": {
            "text/plain": [
              "{(0, 1): 33.50468696086079,\n",
              " (0, 2): 41.11138629503385,\n",
              " (0, 3): 45.79263333713419,\n",
              " (0, 4): 50.77555203012287,\n",
              " (0, 5): 54.44725732628541,\n",
              " (0, 6): 37.647574061136034,\n",
              " (0, 7): 72.98056771655875,\n",
              " (0, 8): 89.70844922828567,\n",
              " (0, 9): 55.82497026893104,\n",
              " (0, 10): 55.59374885917202,\n",
              " (1, 0): 33.50468696086079,\n",
              " (1, 2): 42.23764921128613,\n",
              " (1, 3): 60.2523224726414,\n",
              " (1, 4): 75.58102299795816,\n",
              " (1, 5): 56.50848025794605,\n",
              " (1, 6): 61.502187540784085,\n",
              " (1, 7): 41.09431251296798,\n",
              " (1, 8): 58.14985245467972,\n",
              " (1, 9): 78.02546809638228,\n",
              " (1, 10): 27.720843893358516,\n",
              " (2, 0): 41.11138629503385,\n",
              " (2, 1): 42.23764921128613,\n",
              " (2, 3): 86.23654979493304,\n",
              " (2, 4): 91.17823243082672,\n",
              " (2, 5): 90.94783124977752,\n",
              " (2, 6): 34.318704181986625,\n",
              " (2, 7): 59.652726097030026,\n",
              " (2, 8): 72.39358384965435,\n",
              " (2, 9): 44.18366319713841,\n",
              " (2, 10): 39.85130178750766,\n",
              " (3, 0): 45.79263333713419,\n",
              " (3, 1): 60.2523224726414,\n",
              " (3, 2): 86.23654979493304,\n",
              " (3, 4): 24.29902805451533,\n",
              " (3, 5): 20.831530577252774,\n",
              " (3, 6): 79.12392604996269,\n",
              " (3, 7): 99.06310397166881,\n",
              " (3, 8): 115.75267299756139,\n",
              " (3, 9): 96.33064133573107,\n",
              " (3, 10): 87.97079000781358,\n",
              " (4, 0): 50.77555203012287,\n",
              " (4, 1): 75.58102299795816,\n",
              " (4, 2): 91.17823243082672,\n",
              " (4, 3): 24.29902805451533,\n",
              " (4, 5): 44.94867285094606,\n",
              " (4, 6): 74.60111275003985,\n",
              " (4, 7): 116.3639781233139,\n",
              " (4, 8): 133.39190181642465,\n",
              " (4, 9): 89.51095713217165,\n",
              " (4, 10): 102.415256486599,\n",
              " (5, 0): 54.44725732628541,\n",
              " (5, 1): 56.50848025794605,\n",
              " (5, 2): 90.94783124977752,\n",
              " (5, 3): 20.831530577252774,\n",
              " (5, 4): 44.94867285094606,\n",
              " (5, 6): 91.29968095475525,\n",
              " (5, 7): 90.3491149606583,\n",
              " (5, 8): 106.11583633364307,\n",
              " (5, 9): 109.27286539087449,\n",
              " (5, 10): 83.17538206595394,\n",
              " (6, 0): 37.647574061136034,\n",
              " (6, 1): 61.502187540784085,\n",
              " (6, 2): 34.318704181986625,\n",
              " (6, 3): 79.12392604996269,\n",
              " (6, 4): 74.60111275003985,\n",
              " (6, 5): 91.29968095475525,\n",
              " (6, 7): 91.00028320168003,\n",
              " (6, 8): 105.28153296408613,\n",
              " (6, 9): 18.177619500947053,\n",
              " (6, 10): 70.90656238229411,\n",
              " (7, 0): 72.98056771655875,\n",
              " (7, 1): 41.09431251296798,\n",
              " (7, 2): 59.652726097030026,\n",
              " (7, 3): 99.06310397166881,\n",
              " (7, 4): 116.3639781233139,\n",
              " (7, 5): 90.3491149606583,\n",
              " (7, 6): 91.00028320168003,\n",
              " (7, 8): 17.061642424566603,\n",
              " (7, 9): 103.62376328676926,\n",
              " (7, 10): 20.119506833347312,\n",
              " (8, 0): 89.70844922828567,\n",
              " (8, 1): 58.14985245467972,\n",
              " (8, 2): 72.39358384965435,\n",
              " (8, 3): 115.75267299756139,\n",
              " (8, 4): 133.39190181642465,\n",
              " (8, 5): 106.11583633364307,\n",
              " (8, 6): 105.28153296408613,\n",
              " (8, 7): 17.061642424566603,\n",
              " (8, 9): 116.55136475120295,\n",
              " (8, 10): 35.109906284632594,\n",
              " (9, 0): 55.82497026893104,\n",
              " (9, 1): 78.02546809638228,\n",
              " (9, 2): 44.18366319713841,\n",
              " (9, 3): 96.33064133573107,\n",
              " (9, 4): 89.51095713217165,\n",
              " (9, 5): 109.27286539087449,\n",
              " (9, 6): 18.177619500947053,\n",
              " (9, 7): 103.62376328676926,\n",
              " (9, 8): 116.55136475120295,\n",
              " (9, 10): 83.6054747198245,\n",
              " (10, 0): 55.59374885917202,\n",
              " (10, 1): 27.720843893358516,\n",
              " (10, 2): 39.85130178750766,\n",
              " (10, 3): 87.97079000781358,\n",
              " (10, 4): 102.415256486599,\n",
              " (10, 5): 83.17538206595394,\n",
              " (10, 6): 70.90656238229411,\n",
              " (10, 7): 20.119506833347312,\n",
              " (10, 8): 35.109906284632594,\n",
              " (10, 9): 83.6054747198245}"
            ]
          },
          "metadata": {},
          "execution_count": 8
        }
      ]
    },
    {
      "cell_type": "code",
      "source": [
        "Q=20\n",
        "q={i:rnd.randint(1,10) for i in N}\n",
        "q"
      ],
      "metadata": {
        "colab": {
          "base_uri": "https://localhost:8080/"
        },
        "id": "bh9WArd45qaT",
        "outputId": "e0d7a840-6be3-460b-eddc-70e0f73018b3"
      },
      "execution_count": null,
      "outputs": [
        {
          "output_type": "execute_result",
          "data": {
            "text/plain": [
              "{1: 4, 2: 4, 3: 4, 4: 8, 5: 1, 6: 2, 7: 1, 8: 5, 9: 8, 10: 4}"
            ]
          },
          "metadata": {},
          "execution_count": 9
        }
      ]
    },
    {
      "cell_type": "code",
      "source": [
        "from gurobipy import GRB, quicksum, Model"
      ],
      "metadata": {
        "id": "R4vBWySB61IT"
      },
      "execution_count": null,
      "outputs": []
    },
    {
      "cell_type": "code",
      "source": [
        "mdl=Model('CVRP')"
      ],
      "metadata": {
        "colab": {
          "base_uri": "https://localhost:8080/"
        },
        "id": "RbbUfG_D7FY3",
        "outputId": "ccaed10c-61fe-40bc-c6ae-bdcea988e873"
      },
      "execution_count": null,
      "outputs": [
        {
          "output_type": "stream",
          "name": "stdout",
          "text": [
            "Restricted license - for non-production use only - expires 2024-10-28\n"
          ]
        }
      ]
    },
    {
      "cell_type": "code",
      "source": [
        "x=mdl.addVars(A, vtype=GRB.BINARY)\n",
        "u=mdl.addVars(N, vtype=GRB.CONTINUOUS)"
      ],
      "metadata": {
        "id": "-C-ZwEPT7VVq"
      },
      "execution_count": null,
      "outputs": []
    },
    {
      "cell_type": "code",
      "source": [
        "mdl.modelSense=GRB.MINIMIZE\n",
        "mdl.setObjective(quicksum(x[i,j]*c[i,j] for i,j in A))"
      ],
      "metadata": {
        "id": "KOtbKhJIIEiG"
      },
      "execution_count": null,
      "outputs": []
    },
    {
      "cell_type": "code",
      "source": [
        "mdl.addConstrs(quicksum(x[i,j] for j in V if j!=i)==1 for i in N)\n",
        "mdl.addConstrs(quicksum(x[i,j] for i in V if i!=j)==1 for j in N)\n",
        "mdl.addConstrs((x[i,j]==1) >> (u[i]+q[j]==u[j]) for i,j in A if j!=0 and i!=0)\n",
        "mdl.addConstrs(u[i]<=Q for i in N)"
      ],
      "metadata": {
        "colab": {
          "base_uri": "https://localhost:8080/"
        },
        "id": "ea9mJ7KNIn5u",
        "outputId": "6c4700b5-cb5c-4de7-9514-4843a375caf3"
      },
      "execution_count": null,
      "outputs": [
        {
          "output_type": "execute_result",
          "data": {
            "text/plain": [
              "{1: <gurobi.Constr *Awaiting Model Update*>,\n",
              " 2: <gurobi.Constr *Awaiting Model Update*>,\n",
              " 3: <gurobi.Constr *Awaiting Model Update*>,\n",
              " 4: <gurobi.Constr *Awaiting Model Update*>,\n",
              " 5: <gurobi.Constr *Awaiting Model Update*>,\n",
              " 6: <gurobi.Constr *Awaiting Model Update*>,\n",
              " 7: <gurobi.Constr *Awaiting Model Update*>,\n",
              " 8: <gurobi.Constr *Awaiting Model Update*>,\n",
              " 9: <gurobi.Constr *Awaiting Model Update*>,\n",
              " 10: <gurobi.Constr *Awaiting Model Update*>}"
            ]
          },
          "metadata": {},
          "execution_count": 14
        }
      ]
    },
    {
      "cell_type": "code",
      "source": [
        "mdl.Params.TimeLimit=30\n",
        "mdl.optimize()"
      ],
      "metadata": {
        "colab": {
          "base_uri": "https://localhost:8080/"
        },
        "id": "g4f3w4z2MpjQ",
        "outputId": "c8e88d03-c94d-41ce-adc7-e3fb96fae81f"
      },
      "execution_count": null,
      "outputs": [
        {
          "output_type": "stream",
          "name": "stdout",
          "text": [
            "Set parameter TimeLimit to value 30\n",
            "Gurobi Optimizer version 10.0.2 build v10.0.2rc0 (linux64)\n",
            "\n",
            "CPU model: AMD EPYC 7B12, instruction set [SSE2|AVX|AVX2]\n",
            "Thread count: 1 physical cores, 2 logical processors, using up to 2 threads\n",
            "\n",
            "Optimize a model with 30 rows, 120 columns and 210 nonzeros\n",
            "Model fingerprint: 0xb67a3280\n",
            "Model has 90 general constraints\n",
            "Variable types: 10 continuous, 110 integer (110 binary)\n",
            "Coefficient statistics:\n",
            "  Matrix range     [1e+00, 1e+00]\n",
            "  Objective range  [2e+01, 1e+02]\n",
            "  Bounds range     [1e+00, 1e+00]\n",
            "  RHS range        [1e+00, 2e+01]\n",
            "  GenCon rhs range [1e+00, 8e+00]\n",
            "  GenCon coe range [1e+00, 1e+00]\n",
            "Presolve added 189 rows and 12 columns\n",
            "Presolve time: 0.02s\n",
            "Presolved: 219 rows, 132 columns, 1324 nonzeros\n",
            "Variable types: 42 continuous, 90 integer (90 binary)\n",
            "Found heuristic solution: objective 1074.7736522\n",
            "\n",
            "Root relaxation: objective 3.013706e+02, 43 iterations, 0.00 seconds (0.00 work units)\n",
            "\n",
            "    Nodes    |    Current Node    |     Objective Bounds      |     Work\n",
            " Expl Unexpl |  Obj  Depth IntInf | Incumbent    BestBd   Gap | It/Node Time\n",
            "\n",
            "     0     0  301.37057    0   23 1074.77365  301.37057  72.0%     -    0s\n",
            "H    0     0                     718.0776453  301.37057  58.0%     -    0s\n",
            "H    0     0                     510.2673872  301.37057  40.9%     -    0s\n",
            "     0     0  318.37970    0   23  510.26739  318.37970  37.6%     -    0s\n",
            "     0     0  333.16648    0   26  510.26739  333.16648  34.7%     -    0s\n",
            "H    0     0                     492.2789995  333.16648  32.3%     -    0s\n",
            "     0     0  338.44778    0   23  492.27900  338.44778  31.2%     -    0s\n",
            "     0     0  340.53560    0   23  492.27900  340.53560  30.8%     -    0s\n",
            "     0     0  345.09116    0   25  492.27900  345.09116  29.9%     -    0s\n",
            "     0     0  348.70501    0   24  492.27900  348.70501  29.2%     -    0s\n",
            "     0     0  348.70501    0   24  492.27900  348.70501  29.2%     -    0s\n",
            "     0     0  348.70501    0   24  492.27900  348.70501  29.2%     -    0s\n",
            "H    0     0                     429.4749259  348.70501  18.8%     -    0s\n",
            "     0     0  348.70501    0   22  429.47493  348.70501  18.8%     -    0s\n",
            "     0     2  349.62167    0   22  429.47493  349.62167  18.6%     -    0s\n",
            "*  353   102               7     425.2965119  380.23313  10.6%   8.7    0s\n",
            "\n",
            "Cutting planes:\n",
            "  Learned: 1\n",
            "  Gomory: 1\n",
            "  Cover: 3\n",
            "  Implied bound: 16\n",
            "  MIR: 11\n",
            "  GUB cover: 1\n",
            "  Relax-and-lift: 5\n",
            "\n",
            "Explored 712 nodes (6751 simplex iterations) in 0.38 seconds (0.18 work units)\n",
            "Thread count was 2 (of 2 available processors)\n",
            "\n",
            "Solution count 6: 425.297 429.475 492.279 ... 1074.77\n",
            "\n",
            "Optimal solution found (tolerance 1.00e-04)\n",
            "Best objective 4.252965119106e+02, best bound 4.252853772924e+02, gap 0.0026%\n"
          ]
        }
      ]
    },
    {
      "cell_type": "code",
      "source": [
        "active_arcs= [a for a in A if x[a].x>=.99]\n",
        "active_arcs"
      ],
      "metadata": {
        "colab": {
          "base_uri": "https://localhost:8080/"
        },
        "id": "x3Pf5Y8NM4yQ",
        "outputId": "e0c70fe5-d23e-46d4-c850-cbae0cb57884"
      },
      "execution_count": null,
      "outputs": [
        {
          "output_type": "execute_result",
          "data": {
            "text/plain": [
              "[(0, 5),\n",
              " (0, 9),\n",
              " (1, 0),\n",
              " (2, 10),\n",
              " (3, 4),\n",
              " (4, 0),\n",
              " (5, 3),\n",
              " (6, 2),\n",
              " (7, 1),\n",
              " (8, 7),\n",
              " (9, 6),\n",
              " (10, 8)]"
            ]
          },
          "metadata": {},
          "execution_count": 16
        }
      ]
    },
    {
      "cell_type": "code",
      "source": [
        "for i,j in active_arcs:\n",
        "  plt.plot([xc[i],xc[j]],[yc[i],yc[j]],c='b',zorder=0)\n",
        "plt.plot(xc[0],yc[0],c='r',marker='s')\n",
        "plt.scatter(xc[1:],yc[1:],c='g')"
      ],
      "metadata": {
        "colab": {
          "base_uri": "https://localhost:8080/",
          "height": 447
        },
        "id": "zQ38CWWyNuxH",
        "outputId": "0c6ee736-a414-4daf-d5da-59c254127825"
      },
      "execution_count": null,
      "outputs": [
        {
          "output_type": "execute_result",
          "data": {
            "text/plain": [
              "<matplotlib.collections.PathCollection at 0x7fa60055a530>"
            ]
          },
          "metadata": {},
          "execution_count": 17
        },
        {
          "output_type": "display_data",
          "data": {
            "text/plain": [
              "<Figure size 640x480 with 1 Axes>"
            ],
            "image/png": "[encoded data removed]"
          },
          "metadata": {}
        }
      ]
    }
  ]
}